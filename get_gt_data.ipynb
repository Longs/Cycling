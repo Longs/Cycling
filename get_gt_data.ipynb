{
 "cells": [
  {
   "cell_type": "code",
   "execution_count": 1,
   "metadata": {},
   "outputs": [],
   "source": [
    "from bs4 import BeautifulSoup\n",
    "import requests\n",
    "import pandas as pd"
   ]
  },
  {
   "cell_type": "markdown",
   "metadata": {},
   "source": [
    "#Extracting Data from cycling Grand Tours\n",
    "\n",
    "Using BeautifulSoup to scrape stage by stage placings and time gaps. Data is only captured for riders that completed the tour"
   ]
  },
  {
   "cell_type": "code",
   "execution_count": 3,
   "metadata": {},
   "outputs": [],
   "source": [
    "def get_stage(tour,year,stage):\n",
    "    #TODO: pass in dictionary of rider data - will be generated for all riders from stage 21, previous stages will only store for riders in it\n",
    "    import datetime\n",
    "    #data = requests.get(\"https://www.procyclingstats.com/race/giro-d-italia/2012/stage-21/result/result\")\n",
    "    data = requests.get(f\"https://www.procyclingstats.com/race/{tour}/{year}/stage-{stage}/result/result\")\n",
    "    soup = BeautifulSoup(data.text,\"html.parser\")\n",
    "\n",
    "    stage_table = soup.select('.results')\n",
    "\n",
    "    #Not processing team time trial (since it's a different format and not a test of the rider)\n",
    "    if len(soup.select('.results-ttt')) > 0:\n",
    "        raise NotImplementedError(\"Team time trial not supported\")\n",
    "\n",
    "    #Parse non time trial stage\n",
    "    results = soup.select('.result-cont:not(.hide)')\n",
    "    output=[]\n",
    "    for result in results:\n",
    "        rows = result.select('tr')\n",
    "        leaders_time = \"\"\n",
    "        last_time=\"\"\n",
    "        last_gap=\"\"\n",
    "        for place,row in enumerate(rows[1:]): #first is header\n",
    "            \n",
    "                cells = row.select('td')\n",
    "                scraped_place = (cells[0].get_text())\n",
    "                scraped_place = scraped_place.replace('\\xa0', '')#strip out non breaking space seen in Vuelta 2019 stage 13\n",
    "                if not scraped_place.isalpha():\n",
    "            \n",
    "                    scraped_place = int(scraped_place)\n",
    "                    #assert place == scraped_place-1,f\"{place+1} != {scraped_place}\"\n",
    "                    if place != scraped_place-1:\n",
    "                        print(f\"{place+1} != {scraped_place} in {tour} stage {stage} {year}\")\n",
    "                    else:\n",
    "                        rider_name = row.select('a')[0].get_text()\n",
    "                        #Time will be time taken for the leader, or gap for other riders, but gap is placed in span and hidden div\n",
    "                        span_element = row.select('.time>span')\n",
    "                        if len(span_element) > 0:\n",
    "                            #Happens in some years for 2nd and subsequent place\n",
    "                            rider_time = span_element[0].get_text()\n",
    "                        else:\n",
    "                            rider_time = row.select('.time')[0].get_text()\n",
    "\n",
    "                        if scraped_place == 1:\n",
    "                            try:\n",
    "                                leaders_time = datetime.datetime.strptime(rider_time,\"%H:%M:%S\")\n",
    "                            except:\n",
    "                                leaders_time = datetime.datetime.strptime(rider_time,\"%M:%S\")\n",
    "                            finally: \n",
    "                                gap = 0 #TODO: prob need as datetime\n",
    "                                rider_time = leaders_time\n",
    "                                last_time = rider_time\n",
    "                                last_gap = 0\n",
    "                        else:\n",
    "                            #may be ,, as same as last\n",
    "                            if rider_time.count(\":\") == 0:\n",
    "                                rider_time=last_time\n",
    "                                gap = last_gap\n",
    "                            else:\n",
    "                                try:\n",
    "                                    gap = datetime.datetime.strptime(rider_time,\"%H:%M:%S\")\n",
    "                                except:\n",
    "                                    gap = datetime.datetime.strptime(rider_time,\"%M:%S\")\n",
    "                                finally: \n",
    "                                    rider_time = leaders_time + datetime.timedelta(hours=gap.hour, minutes = gap.minute, seconds = gap.second)\n",
    "                                    last_time = rider_time\n",
    "                                    last_gap = gap\n",
    "                        #Convert times to seconds\n",
    "                        if gap != 0:\n",
    "                            gap = int((gap-datetime.datetime(1900,1,1)).total_seconds())\n",
    "                        rider_time = int((rider_time-datetime.datetime(1900,1,1)).total_seconds())\n",
    "                        output.append([rider_name,stage,scraped_place,gap,rider_time])\n",
    "\n",
    "    print(\"finished\")\n",
    "    return output\n",
    "\n",
    "\n",
    "# #220404 detect TTT\n",
    "#print(get_stage(\"vuelta-a-espana\",2019,13))\n",
    "#df_vuelta_19 = save_full_tour(\"vuelta-a-espana\",2019)\n"
   ]
  },
  {
   "cell_type": "code",
   "execution_count": 4,
   "metadata": {},
   "outputs": [],
   "source": [
    "def save_full_tour(tour,year):\n",
    "    output = []\n",
    "    \n",
    "    output=get_stage(tour,year,21)\n",
    "    df_tour = pd.DataFrame(output,columns=[\"rider\",\"stage\",\"position\",\"gap\",\"stage_time\"])\n",
    "    #TODO: Team time trial on final stage is not trapped - but is this ever likely?\n",
    "    for stage in range(20,0,-1):\n",
    "        try:\n",
    "            output=get_stage(tour,year,stage)\n",
    "            df_current = pd.DataFrame(output,columns=[\"rider\",\"stage\",\"position\",\"gap\",\"stage_time\"])\n",
    "            df_tour = df_tour.append(df_current)\n",
    "\n",
    "        except NotImplementedError: #returned for team time trials\n",
    "            pass\n",
    "\n",
    "    df_tour.to_csv(f\"{tour}_{year}.csv\",index = False)\n",
    "\n",
    "    return df_tour\n",
    "\n",
    "#df_vuelta_19 = save_full_tour(\"vuelta-a-espana\",2019)"
   ]
  },
  {
   "cell_type": "code",
   "execution_count": 19,
   "metadata": {},
   "outputs": [
    {
     "name": "stdout",
     "output_type": "stream",
     "text": [
      "True\n"
     ]
    }
   ],
   "source": [
    "df_from_load = pd.read_csv(\"vuelta-a-espana_2019.csv\")\n",
    "print(check_equality(df_from_load,df_vuelta_19)) "
   ]
  },
  {
   "cell_type": "code",
   "execution_count": 5,
   "metadata": {},
   "outputs": [],
   "source": [
    "def check_equality(A, B):\n",
    "\n",
    "    df11 = A.sort_index(axis=1)\n",
    "    df11 = df11.sort_values(df11.columns.tolist()).reset_index(drop=True)\n",
    "\n",
    "    df22 = B.sort_index(axis=1)\n",
    "    df22 = df22.sort_values(df22.columns.tolist()).reset_index(drop=True)\n",
    "    return (df11 == df22).values.all()\n",
    "\n",
    "#df_from_load = pd.read_csv(\"giro-d-italia_2020.csv\")\n",
    "#print(check_equality(df_from_load,df_giro_20)) \n",
    "df_giro_20 = pd.read_csv(\"giro-d-italia_2020.csv\")"
   ]
  },
  {
   "cell_type": "code",
   "execution_count": 6,
   "metadata": {},
   "outputs": [
    {
     "name": "stdout",
     "output_type": "stream",
     "text": [
      "finished\n",
      "finished\n",
      "finished\n",
      "finished\n",
      "finished\n",
      "finished\n",
      "finished\n",
      "finished\n",
      "finished\n",
      "finished\n",
      "finished\n",
      "finished\n",
      "finished\n",
      "finished\n",
      "finished\n",
      "finished\n",
      "finished\n",
      "finished\n",
      "finished\n",
      "finished\n",
      "finished\n"
     ]
    }
   ],
   "source": [
    "#df_giro_21 = save_full_tour(\"giro-d-italia\",2021)"
   ]
  },
  {
   "cell_type": "code",
   "execution_count": 7,
   "metadata": {},
   "outputs": [
    {
     "name": "stdout",
     "output_type": "stream",
     "text": [
      "True\n"
     ]
    }
   ],
   "source": [
    "df_from_load = pd.read_csv(\"giro-d-italia_2021.csv\")\n",
    "print(check_equality(df_from_load,df_giro_21)) "
   ]
  },
  {
   "cell_type": "code",
   "execution_count": 8,
   "metadata": {},
   "outputs": [
    {
     "name": "stdout",
     "output_type": "stream",
     "text": [
      "finished\n",
      "finished\n",
      "finished\n",
      "finished\n",
      "finished\n",
      "finished\n",
      "finished\n",
      "finished\n",
      "finished\n",
      "finished\n",
      "finished\n",
      "finished\n",
      "finished\n",
      "finished\n",
      "finished\n",
      "finished\n",
      "finished\n",
      "finished\n",
      "finished\n",
      "finished\n",
      "finished\n"
     ]
    }
   ],
   "source": [
    "#df_giro_19 = save_full_tour(\"giro-d-italia\",2019)"
   ]
  },
  {
   "cell_type": "code",
   "execution_count": 9,
   "metadata": {},
   "outputs": [
    {
     "name": "stdout",
     "output_type": "stream",
     "text": [
      "True\n"
     ]
    }
   ],
   "source": [
    "df_from_load = pd.read_csv(\"giro-d-italia_2019.csv\")\n",
    "print(check_equality(df_from_load,df_giro_19)) "
   ]
  },
  {
   "cell_type": "code",
   "execution_count": 8,
   "metadata": {},
   "outputs": [
    {
     "name": "stdout",
     "output_type": "stream",
     "text": [
      "finished\n",
      "finished\n",
      "finished\n",
      "finished\n",
      "finished\n",
      "finished\n",
      "finished\n",
      "finished\n",
      "finished\n",
      "finished\n",
      "finished\n",
      "finished\n",
      "finished\n",
      "finished\n",
      "finished\n",
      "finished\n",
      "finished\n",
      "finished\n",
      "finished\n",
      "finished\n",
      "finished\n"
     ]
    }
   ],
   "source": [
    "#df_tour_21 = save_full_tour(\"tour-de-france\",2021) #2019 has team time trial which fails"
   ]
  },
  {
   "cell_type": "code",
   "execution_count": 12,
   "metadata": {},
   "outputs": [
    {
     "name": "stdout",
     "output_type": "stream",
     "text": [
      "True\n"
     ]
    }
   ],
   "source": [
    "#tour 20 and 21 are fine - 19 has team time trial\n",
    "df_from_load = pd.read_csv(\"tour-de-france_2021.csv\")\n",
    "print(check_equality(df_from_load,df_tour_21)) "
   ]
  },
  {
   "cell_type": "code",
   "execution_count": 13,
   "metadata": {},
   "outputs": [
    {
     "name": "stdout",
     "output_type": "stream",
     "text": [
      "finished\n",
      "finished\n",
      "finished\n",
      "finished\n",
      "finished\n",
      "finished\n",
      "finished\n",
      "finished\n",
      "finished\n",
      "finished\n",
      "finished\n",
      "finished\n",
      "finished\n",
      "finished\n",
      "finished\n",
      "finished\n",
      "finished\n",
      "finished\n",
      "finished\n",
      "finished\n",
      "finished\n",
      "finished\n",
      "finished\n",
      "finished\n",
      "finished\n",
      "finished\n",
      "finished\n",
      "finished\n",
      "finished\n",
      "finished\n",
      "finished\n",
      "finished\n",
      "finished\n",
      "finished\n",
      "finished\n",
      "finished\n",
      "finished\n",
      "finished\n",
      "finished\n",
      "finished\n",
      "finished\n",
      "finished\n"
     ]
    }
   ],
   "source": [
    "#vuelta '19 has TTT\n",
    "#df_vuelta_21 = save_full_tour(\"vuelta-a-espana\",2021)\n",
    "#df_vuelta_20 = save_full_tour(\"vuelta-a-espana\",2020)"
   ]
  },
  {
   "cell_type": "code",
   "execution_count": 15,
   "metadata": {},
   "outputs": [
    {
     "name": "stdout",
     "output_type": "stream",
     "text": [
      "True\n"
     ]
    }
   ],
   "source": [
    "#Vuelta 20 and 21 are fine 19 has TTT\n",
    "df_from_load = pd.read_csv(\"vuelta-a-espana_2020.csv\")\n",
    "print(check_equality(df_from_load,df_vuelta_20)) "
   ]
  },
  {
   "cell_type": "code",
   "execution_count": 20,
   "metadata": {},
   "outputs": [
    {
     "name": "stdout",
     "output_type": "stream",
     "text": [
      "finished\n",
      "finished\n",
      "finished\n",
      "finished\n",
      "finished\n",
      "finished\n",
      "finished\n",
      "finished\n",
      "finished\n",
      "finished\n",
      "finished\n",
      "finished\n",
      "finished\n",
      "finished\n",
      "finished\n",
      "finished\n",
      "finished\n",
      "finished\n",
      "finished\n",
      "finished\n"
     ]
    }
   ],
   "source": [
    "#df_tour_19 = save_full_tour(\"tour-de-france\",2019)"
   ]
  },
  {
   "cell_type": "code",
   "execution_count": 21,
   "metadata": {},
   "outputs": [
    {
     "name": "stdout",
     "output_type": "stream",
     "text": [
      "True\n"
     ]
    }
   ],
   "source": [
    "df_from_load = pd.read_csv(\"tour-de-france_2019.csv\")\n",
    "print(check_equality(df_from_load,df_tour_19)) "
   ]
  },
  {
   "cell_type": "code",
   "execution_count": 6,
   "metadata": {},
   "outputs": [
    {
     "name": "stdout",
     "output_type": "stream",
     "text": [
      "finished\n",
      "finished\n",
      "finished\n",
      "finished\n",
      "finished\n",
      "finished\n",
      "finished\n",
      "finished\n",
      "finished\n",
      "finished\n",
      "finished\n",
      "finished\n",
      "finished\n",
      "finished\n",
      "finished\n",
      "finished\n",
      "finished\n",
      "finished\n",
      "finished\n",
      "finished\n",
      "finished\n",
      "finished\n",
      "finished\n",
      "finished\n",
      "finished\n",
      "finished\n",
      "finished\n",
      "finished\n",
      "finished\n",
      "finished\n",
      "finished\n",
      "finished\n",
      "finished\n",
      "finished\n",
      "finished\n",
      "finished\n",
      "finished\n",
      "finished\n",
      "finished\n",
      "finished\n",
      "finished\n",
      "finished\n",
      "finished\n",
      "finished\n",
      "finished\n",
      "finished\n",
      "finished\n",
      "finished\n",
      "finished\n",
      "finished\n",
      "finished\n",
      "finished\n",
      "finished\n",
      "finished\n",
      "finished\n",
      "finished\n",
      "finished\n",
      "finished\n",
      "finished\n",
      "finished\n",
      "finished\n",
      "finished\n"
     ]
    }
   ],
   "source": [
    "# df_tour_18 = save_full_tour(\"tour-de-france\",2018)\n",
    "# df_vuelta_18 = save_full_tour(\"vuelta-a-espana\",2018)\n",
    "# df_giro_18 = save_full_tour(\"giro-d-italia\",2018)"
   ]
  },
  {
   "cell_type": "code",
   "execution_count": 7,
   "metadata": {},
   "outputs": [
    {
     "name": "stdout",
     "output_type": "stream",
     "text": [
      "True\n"
     ]
    }
   ],
   "source": [
    "df_from_load = pd.read_csv(\"tour-de-france_2018.csv\")\n",
    "print(check_equality(df_from_load,df_tour_18)) "
   ]
  },
  {
   "cell_type": "code",
   "execution_count": 9,
   "metadata": {},
   "outputs": [
    {
     "name": "stdout",
     "output_type": "stream",
     "text": [
      "True\n"
     ]
    }
   ],
   "source": [
    "df_from_load = pd.read_csv(\"vuelta-a-espana_2018.csv\")\n",
    "print(check_equality(df_from_load,df_vuelta_18)) "
   ]
  },
  {
   "cell_type": "code",
   "execution_count": 8,
   "metadata": {},
   "outputs": [
    {
     "name": "stdout",
     "output_type": "stream",
     "text": [
      "True\n"
     ]
    }
   ],
   "source": [
    "df_from_load = pd.read_csv(\"giro-d-italia_2018.csv\")\n",
    "print(check_equality(df_from_load,df_giro_18)) "
   ]
  }
 ],
 "metadata": {
  "interpreter": {
   "hash": "620a613fb0f7c9e078bb3e7f934431b975f19b646d5256aee0d3a114e9bc3a4d"
  },
  "kernelspec": {
   "display_name": "Python 3.8.8 64-bit ('PandasBS': conda)",
   "language": "python",
   "name": "python3"
  },
  "language_info": {
   "codemirror_mode": {
    "name": "ipython",
    "version": 3
   },
   "file_extension": ".py",
   "mimetype": "text/x-python",
   "name": "python",
   "nbconvert_exporter": "python",
   "pygments_lexer": "ipython3",
   "version": "3.8.8"
  },
  "orig_nbformat": 4
 },
 "nbformat": 4,
 "nbformat_minor": 2
}
